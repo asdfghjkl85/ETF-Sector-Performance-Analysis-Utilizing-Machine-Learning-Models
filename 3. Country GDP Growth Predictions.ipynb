{
 "cells": [
  {
   "cell_type": "markdown",
   "metadata": {},
   "source": [
    "<h2 style=\"color:Green;\">Setup and Loading Packages</h2> Setup and Loading Packages"
   ]
  },
  {
   "cell_type": "code",
   "execution_count": 10,
   "metadata": {
    "ExecuteTime": {
     "end_time": "2021-04-16T00:08:32.172640Z",
     "start_time": "2021-04-16T00:08:31.635143Z"
    }
   },
   "outputs": [],
   "source": [
    "%matplotlib inline\n",
    "\n",
    "import numpy as np\n",
    "import pandas as pd\n",
    "\n",
    "import matplotlib.pyplot as plt\n",
    "import seaborn as sns\n",
    "\n",
    "from sklearn.preprocessing import scale\n",
    "from sklearn.model_selection import train_test_split\n",
    "\n",
    "import statsmodels.api as sm\n",
    "from sklearn.preprocessing import StandardScaler\n",
    "import pandas_datareader as pdr\n",
    "\n",
    "from sklearn.ensemble import RandomForestRegressor\n",
    "from statsmodels.stats.outliers_influence import variance_inflation_factor\n",
    "\n",
    "from sklearn.linear_model import LinearRegression, RidgeCV, LassoCV\n",
    "from sklearn.metrics import mean_absolute_error, mean_squared_error, r2_score\n",
    "from sklearn.linear_model import SGDRegressor"
   ]
  },
  {
   "cell_type": "code",
   "execution_count": 11,
   "metadata": {},
   "outputs": [
    {
     "name": "stdout",
     "output_type": "stream",
     "text": [
      "Requirement already satisfied: pandas_datareader in c:\\users\\alan wei\\anaconda3\\lib\\site-packages (0.10.0)\n",
      "Requirement already satisfied: requests>=2.19.0 in c:\\users\\alan wei\\anaconda3\\lib\\site-packages (from pandas_datareader) (2.27.1)\n",
      "Requirement already satisfied: pandas>=0.23 in c:\\users\\alan wei\\anaconda3\\lib\\site-packages (from pandas_datareader) (1.4.2)\n",
      "Requirement already satisfied: lxml in c:\\users\\alan wei\\anaconda3\\lib\\site-packages (from pandas_datareader) (4.8.0)\n",
      "Requirement already satisfied: python-dateutil>=2.8.1 in c:\\users\\alan wei\\anaconda3\\lib\\site-packages (from pandas>=0.23->pandas_datareader) (2.8.2)\n",
      "Requirement already satisfied: pytz>=2020.1 in c:\\users\\alan wei\\anaconda3\\lib\\site-packages (from pandas>=0.23->pandas_datareader) (2021.3)\n",
      "Requirement already satisfied: numpy>=1.18.5 in c:\\users\\alan wei\\anaconda3\\lib\\site-packages (from pandas>=0.23->pandas_datareader) (1.21.5)\n",
      "Requirement already satisfied: six>=1.5 in c:\\users\\alan wei\\anaconda3\\lib\\site-packages (from python-dateutil>=2.8.1->pandas>=0.23->pandas_datareader) (1.16.0)\n",
      "Requirement already satisfied: idna<4,>=2.5 in c:\\users\\alan wei\\anaconda3\\lib\\site-packages (from requests>=2.19.0->pandas_datareader) (3.3)\n",
      "Requirement already satisfied: urllib3<1.27,>=1.21.1 in c:\\users\\alan wei\\anaconda3\\lib\\site-packages (from requests>=2.19.0->pandas_datareader) (1.26.9)\n",
      "Requirement already satisfied: certifi>=2017.4.17 in c:\\users\\alan wei\\anaconda3\\lib\\site-packages (from requests>=2.19.0->pandas_datareader) (2021.10.8)\n",
      "Requirement already satisfied: charset-normalizer~=2.0.0 in c:\\users\\alan wei\\anaconda3\\lib\\site-packages (from requests>=2.19.0->pandas_datareader) (2.0.4)\n"
     ]
    }
   ],
   "source": [
    "! pip install pandas_datareader"
   ]
  },
  {
   "cell_type": "markdown",
   "metadata": {},
   "source": [
    "<h2 style=\"color:Green;\">Real GDP Growth Rate Predictions by Country</h2><br/>"
   ]
  },
  {
   "cell_type": "markdown",
   "metadata": {},
   "source": [
    "Gross Domestic Products (GDP) growth has been a hot topic in macroeconomics and an economist on your team needs your help to uncover its implications from a statistical learning perspective. The economist gathered some data from the U.S. Bureau of Economic Analysis (BEA) and OECD’s Composite Leading Indicators (CLIs) repositories. The U.S. BEA stores macro and micro-economic measures on a multinational level as the OECD CLIs screens the conditions that dictates the economic booms and busts of OECD countries. <br><br>\n",
    "\n",
    "4 indictors are gathered from each of the 10 selected OECD countries: monthly real income, employment, industrial production, and wholesale-retail sales. The countries include the United States, United Kingdom, Netherlands, Luxembourg, Japan, Korea, Germany, France, Denmark, and Canada. The indicators are collected over the past 240 months (20 years), from October 1999 to September 2019, so there is a total of 2400 observations. <br><br>\n",
    "\n",
    "We want to examine the predictive power of these features in a linear model that forecasts the real Gross Domestic Products (GDP) growth rate for each country. "
   ]
  },
  {
   "cell_type": "code",
   "execution_count": 12,
   "metadata": {},
   "outputs": [
    {
     "data": {
      "text/plain": [
       "<bound method DataFrame.info of           Country   realGDP  realPersInc  unempRate  indProd  retailSales\n",
       "Date                                                                     \n",
       "11/1/1999     USA  0.000988   120.886465      0.041    89.75      85.8164\n",
       "12/1/1999     USA  0.000691   120.702974      0.040    90.44      87.4060\n",
       "1/1/2000      USA  0.000592   120.649898      0.040    90.46      86.4326\n",
       "2/1/2000      USA  0.000591   120.657155      0.041    90.73      87.3692\n",
       "3/1/2000      USA  0.000690   120.614413      0.040    91.05      87.8100\n",
       "...           ...       ...          ...        ...      ...          ...\n",
       "5/1/2019   Canada  0.000300    91.431046      0.054   110.67     111.0259\n",
       "6/1/2019   Canada  0.000100    91.094052      0.056   110.22     111.3524\n",
       "7/1/2019   Canada -0.000100    90.793031      0.057   108.37     111.4433\n",
       "8/1/2019   Canada -0.000200    90.556263      0.057   108.50     111.7465\n",
       "9/1/2019   Canada -0.000200    90.410000      0.055   107.97     111.7418\n",
       "\n",
       "[2399 rows x 6 columns]>"
      ]
     },
     "execution_count": 12,
     "metadata": {},
     "output_type": "execute_result"
    }
   ],
   "source": [
    "# loading the csv data set from local directory\n",
    "OECD = pd.read_csv(\"C:/Users/Alan Wei/Downloads/OECD_DATA.csv\"); OECD = OECD.set_index('Date')\n",
    "# converting real GDP index to growth rate (we do not take the log this time)\n",
    "OECD['realGDP'] = OECD['realGDP'].pct_change()\n",
    "# drop NaN values\n",
    "OECD = OECD.dropna()\n",
    "OECD.info"
   ]
  },
  {
   "cell_type": "markdown",
   "metadata": {},
   "source": [
    "Explanatory Variable: Country, and other indicators\n",
    "Response Variable: GDP growth rate (linear model) in the future"
   ]
  },
  {
   "cell_type": "markdown",
   "metadata": {},
   "source": [
    "Here we are standardizing the features that we can"
   ]
  },
  {
   "cell_type": "code",
   "execution_count": 13,
   "metadata": {},
   "outputs": [],
   "source": [
    "VAR_NAMES = ['Country','realGDP',  'realPersInc', 'unempRate', 'indProd', 'retailSales']\n",
    "FEATURES = VAR_NAMES[2:]\n",
    "OECD.loc[:, FEATURES] = scale(OECD.loc[:, FEATURES]) # standardizing indicators"
   ]
  },
  {
   "cell_type": "markdown",
   "metadata": {},
   "source": [
    "In order to include country as a variable, created columns for dummy variables where only the value for USA which we are trying to predict has a 1.\n",
    "\n",
    "I added 9 columns when there are 10 countries in our original data set because when all 9 dummy variables are set to 0, the regression output will represent the result for the country that doesn't have its own added column. <br><br>"
   ]
  },
  {
   "cell_type": "code",
   "execution_count": 14,
   "metadata": {},
   "outputs": [
    {
     "data": {
      "text/html": [
       "<div>\n",
       "<style scoped>\n",
       "    .dataframe tbody tr th:only-of-type {\n",
       "        vertical-align: middle;\n",
       "    }\n",
       "\n",
       "    .dataframe tbody tr th {\n",
       "        vertical-align: top;\n",
       "    }\n",
       "\n",
       "    .dataframe thead th {\n",
       "        text-align: right;\n",
       "    }\n",
       "</style>\n",
       "<table border=\"1\" class=\"dataframe\">\n",
       "  <thead>\n",
       "    <tr style=\"text-align: right;\">\n",
       "      <th></th>\n",
       "      <th>realGDP</th>\n",
       "      <th>realPersInc</th>\n",
       "      <th>unempRate</th>\n",
       "      <th>indProd</th>\n",
       "      <th>retailSales</th>\n",
       "      <th>Country_Denmark</th>\n",
       "      <th>Country_France</th>\n",
       "      <th>Country_Germany</th>\n",
       "      <th>Country_Japan</th>\n",
       "      <th>Country_Korea</th>\n",
       "      <th>Country_Luxembourg</th>\n",
       "      <th>Country_Netherlands</th>\n",
       "      <th>Country_UK</th>\n",
       "      <th>Country_USA</th>\n",
       "    </tr>\n",
       "    <tr>\n",
       "      <th>Date</th>\n",
       "      <th></th>\n",
       "      <th></th>\n",
       "      <th></th>\n",
       "      <th></th>\n",
       "      <th></th>\n",
       "      <th></th>\n",
       "      <th></th>\n",
       "      <th></th>\n",
       "      <th></th>\n",
       "      <th></th>\n",
       "      <th></th>\n",
       "      <th></th>\n",
       "      <th></th>\n",
       "      <th></th>\n",
       "    </tr>\n",
       "  </thead>\n",
       "  <tbody>\n",
       "    <tr>\n",
       "      <th>11/1/1999</th>\n",
       "      <td>0.000988</td>\n",
       "      <td>1.796302</td>\n",
       "      <td>-0.821803</td>\n",
       "      <td>-0.808932</td>\n",
       "      <td>-0.384360</td>\n",
       "      <td>0</td>\n",
       "      <td>0</td>\n",
       "      <td>0</td>\n",
       "      <td>0</td>\n",
       "      <td>0</td>\n",
       "      <td>0</td>\n",
       "      <td>0</td>\n",
       "      <td>0</td>\n",
       "      <td>1</td>\n",
       "    </tr>\n",
       "    <tr>\n",
       "      <th>12/1/1999</th>\n",
       "      <td>0.000691</td>\n",
       "      <td>1.775151</td>\n",
       "      <td>-0.871149</td>\n",
       "      <td>-0.748722</td>\n",
       "      <td>-0.286125</td>\n",
       "      <td>0</td>\n",
       "      <td>0</td>\n",
       "      <td>0</td>\n",
       "      <td>0</td>\n",
       "      <td>0</td>\n",
       "      <td>0</td>\n",
       "      <td>0</td>\n",
       "      <td>0</td>\n",
       "      <td>1</td>\n",
       "    </tr>\n",
       "    <tr>\n",
       "      <th>1/1/2000</th>\n",
       "      <td>0.000592</td>\n",
       "      <td>1.769032</td>\n",
       "      <td>-0.871149</td>\n",
       "      <td>-0.746977</td>\n",
       "      <td>-0.346280</td>\n",
       "      <td>0</td>\n",
       "      <td>0</td>\n",
       "      <td>0</td>\n",
       "      <td>0</td>\n",
       "      <td>0</td>\n",
       "      <td>0</td>\n",
       "      <td>0</td>\n",
       "      <td>0</td>\n",
       "      <td>1</td>\n",
       "    </tr>\n",
       "    <tr>\n",
       "      <th>2/1/2000</th>\n",
       "      <td>0.000591</td>\n",
       "      <td>1.769869</td>\n",
       "      <td>-0.821803</td>\n",
       "      <td>-0.723416</td>\n",
       "      <td>-0.288399</td>\n",
       "      <td>0</td>\n",
       "      <td>0</td>\n",
       "      <td>0</td>\n",
       "      <td>0</td>\n",
       "      <td>0</td>\n",
       "      <td>0</td>\n",
       "      <td>0</td>\n",
       "      <td>0</td>\n",
       "      <td>1</td>\n",
       "    </tr>\n",
       "    <tr>\n",
       "      <th>3/1/2000</th>\n",
       "      <td>0.000690</td>\n",
       "      <td>1.764942</td>\n",
       "      <td>-0.871149</td>\n",
       "      <td>-0.695493</td>\n",
       "      <td>-0.261159</td>\n",
       "      <td>0</td>\n",
       "      <td>0</td>\n",
       "      <td>0</td>\n",
       "      <td>0</td>\n",
       "      <td>0</td>\n",
       "      <td>0</td>\n",
       "      <td>0</td>\n",
       "      <td>0</td>\n",
       "      <td>1</td>\n",
       "    </tr>\n",
       "  </tbody>\n",
       "</table>\n",
       "</div>"
      ],
      "text/plain": [
       "            realGDP  realPersInc  unempRate   indProd  retailSales  \\\n",
       "Date                                                                 \n",
       "11/1/1999  0.000988     1.796302  -0.821803 -0.808932    -0.384360   \n",
       "12/1/1999  0.000691     1.775151  -0.871149 -0.748722    -0.286125   \n",
       "1/1/2000   0.000592     1.769032  -0.871149 -0.746977    -0.346280   \n",
       "2/1/2000   0.000591     1.769869  -0.821803 -0.723416    -0.288399   \n",
       "3/1/2000   0.000690     1.764942  -0.871149 -0.695493    -0.261159   \n",
       "\n",
       "           Country_Denmark  Country_France  Country_Germany  Country_Japan  \\\n",
       "Date                                                                         \n",
       "11/1/1999                0               0                0              0   \n",
       "12/1/1999                0               0                0              0   \n",
       "1/1/2000                 0               0                0              0   \n",
       "2/1/2000                 0               0                0              0   \n",
       "3/1/2000                 0               0                0              0   \n",
       "\n",
       "           Country_Korea  Country_Luxembourg  Country_Netherlands  Country_UK  \\\n",
       "Date                                                                            \n",
       "11/1/1999              0                   0                    0           0   \n",
       "12/1/1999              0                   0                    0           0   \n",
       "1/1/2000               0                   0                    0           0   \n",
       "2/1/2000               0                   0                    0           0   \n",
       "3/1/2000               0                   0                    0           0   \n",
       "\n",
       "           Country_USA  \n",
       "Date                    \n",
       "11/1/1999            1  \n",
       "12/1/1999            1  \n",
       "1/1/2000             1  \n",
       "2/1/2000             1  \n",
       "3/1/2000             1  "
      ]
     },
     "execution_count": 14,
     "metadata": {},
     "output_type": "execute_result"
    }
   ],
   "source": [
    "\n",
    "OECD = pd.get_dummies(data=OECD, drop_first=True)\n",
    "FEATURES = OECD.columns[1:]\n",
    "OECD.head()"
   ]
  },
  {
   "cell_type": "markdown",
   "metadata": {},
   "source": [
    "Now I can split the training data into 75% training and 25% testing sets."
   ]
  },
  {
   "cell_type": "code",
   "execution_count": 15,
   "metadata": {},
   "outputs": [],
   "source": [
    "\n",
    "LABEL = 'realGDP'\n",
    "X_train, X_test, y_train, y_test = train_test_split(OECD.loc[:, FEATURES], OECD.loc[:, LABEL], test_size=0.25, random_state=0)\n"
   ]
  },
  {
   "cell_type": "markdown",
   "metadata": {},
   "source": [
    "Here we want to see that all the features are important, so we will run a feature importance test from the random forest model."
   ]
  },
  {
   "cell_type": "markdown",
   "metadata": {},
   "source": [
    "Testing feature importance here:"
   ]
  },
  {
   "cell_type": "code",
   "execution_count": 16,
   "metadata": {},
   "outputs": [
    {
     "data": {
      "text/plain": [
       "Text(0.5, 0, 'Relative Importance')"
      ]
     },
     "execution_count": 16,
     "metadata": {},
     "output_type": "execute_result"
    },
    {
     "data": {
      "image/png": "[encoded data removed]",
      "text/plain": [
       "<Figure size 432x288 with 1 Axes>"
      ]
     },
     "metadata": {
      "needs_background": "light"
     },
     "output_type": "display_data"
    }
   ],
   "source": [
    "from sklearn.ensemble import RandomForestRegressor # importing the random forest module\n",
    "\n",
    "rf_model = RandomForestRegressor(random_state=0) # define the random forest model\n",
    "\n",
    "rf_model.fit(X_train, y_train) # fit the random forest model\n",
    "\n",
    "importances = rf_model.feature_importances_ # get importance\n",
    "\n",
    "indices = np.argsort(importances) # sort the features' index by their importance scores\n",
    "\n",
    "plt.title('Feature Importances in the Random Forest Model')\n",
    "plt.barh(range(len(indices)), importances[indices], align='center')\n",
    "plt.yticks(range(len(indices)), [FEATURES[i] for i in indices])\n",
    "plt.xlabel('Relative Importance')"
   ]
  },
  {
   "cell_type": "markdown",
   "metadata": {},
   "source": [
    "Multicolineararity Test:"
   ]
  },
  {
   "cell_type": "code",
   "execution_count": 17,
   "metadata": {},
   "outputs": [
    {
     "data": {
      "text/html": [
       "<div>\n",
       "<style scoped>\n",
       "    .dataframe tbody tr th:only-of-type {\n",
       "        vertical-align: middle;\n",
       "    }\n",
       "\n",
       "    .dataframe tbody tr th {\n",
       "        vertical-align: top;\n",
       "    }\n",
       "\n",
       "    .dataframe thead th {\n",
       "        text-align: right;\n",
       "    }\n",
       "</style>\n",
       "<table border=\"1\" class=\"dataframe\">\n",
       "  <thead>\n",
       "    <tr style=\"text-align: right;\">\n",
       "      <th></th>\n",
       "      <th>Features</th>\n",
       "      <th>VIF</th>\n",
       "    </tr>\n",
       "  </thead>\n",
       "  <tbody>\n",
       "    <tr>\n",
       "      <th>0</th>\n",
       "      <td>realPersInc</td>\n",
       "      <td>1.723912</td>\n",
       "    </tr>\n",
       "    <tr>\n",
       "      <th>1</th>\n",
       "      <td>unempRate</td>\n",
       "      <td>2.435666</td>\n",
       "    </tr>\n",
       "    <tr>\n",
       "      <th>2</th>\n",
       "      <td>indProd</td>\n",
       "      <td>2.242862</td>\n",
       "    </tr>\n",
       "    <tr>\n",
       "      <th>3</th>\n",
       "      <td>retailSales</td>\n",
       "      <td>2.094585</td>\n",
       "    </tr>\n",
       "    <tr>\n",
       "      <th>4</th>\n",
       "      <td>Country_Denmark</td>\n",
       "      <td>1.166142</td>\n",
       "    </tr>\n",
       "    <tr>\n",
       "      <th>5</th>\n",
       "      <td>Country_France</td>\n",
       "      <td>1.891253</td>\n",
       "    </tr>\n",
       "    <tr>\n",
       "      <th>6</th>\n",
       "      <td>Country_Germany</td>\n",
       "      <td>1.134902</td>\n",
       "    </tr>\n",
       "    <tr>\n",
       "      <th>7</th>\n",
       "      <td>Country_Japan</td>\n",
       "      <td>1.186148</td>\n",
       "    </tr>\n",
       "    <tr>\n",
       "      <th>8</th>\n",
       "      <td>Country_Korea</td>\n",
       "      <td>1.977866</td>\n",
       "    </tr>\n",
       "    <tr>\n",
       "      <th>9</th>\n",
       "      <td>Country_Luxembourg</td>\n",
       "      <td>1.411761</td>\n",
       "    </tr>\n",
       "    <tr>\n",
       "      <th>10</th>\n",
       "      <td>Country_Netherlands</td>\n",
       "      <td>1.118034</td>\n",
       "    </tr>\n",
       "    <tr>\n",
       "      <th>11</th>\n",
       "      <td>Country_UK</td>\n",
       "      <td>1.036900</td>\n",
       "    </tr>\n",
       "    <tr>\n",
       "      <th>12</th>\n",
       "      <td>Country_USA</td>\n",
       "      <td>1.026931</td>\n",
       "    </tr>\n",
       "  </tbody>\n",
       "</table>\n",
       "</div>"
      ],
      "text/plain": [
       "               Features       VIF\n",
       "0           realPersInc  1.723912\n",
       "1             unempRate  2.435666\n",
       "2               indProd  2.242862\n",
       "3           retailSales  2.094585\n",
       "4       Country_Denmark  1.166142\n",
       "5        Country_France  1.891253\n",
       "6       Country_Germany  1.134902\n",
       "7         Country_Japan  1.186148\n",
       "8         Country_Korea  1.977866\n",
       "9    Country_Luxembourg  1.411761\n",
       "10  Country_Netherlands  1.118034\n",
       "11           Country_UK  1.036900\n",
       "12          Country_USA  1.026931"
      ]
     },
     "execution_count": 17,
     "metadata": {},
     "output_type": "execute_result"
    }
   ],
   "source": [
    "from statsmodels.stats.outliers_influence import variance_inflation_factor\n",
    "VIF = [variance_inflation_factor(OECD.loc[:, FEATURES].values, i) for i in range(len(FEATURES))]\n",
    "VIF_table = pd.DataFrame({'Features': FEATURES, 'VIF': VIF})\n",
    "VIF_table"
   ]
  },
  {
   "cell_type": "markdown",
   "metadata": {},
   "source": [
    "Here I fit a multiple linear regression to the data, then print the resulting Adjusted R-squared, MAE, and RMSE metrics. "
   ]
  },
  {
   "cell_type": "code",
   "execution_count": 18,
   "metadata": {},
   "outputs": [
    {
     "name": "stdout",
     "output_type": "stream",
     "text": [
      "intercept:  -0.0002038638395117503\n",
      "coefficients:  [ 1.05993564e-04  3.74296397e-04  2.19173918e-04  1.88501122e-05\n",
      "  8.18097003e-05 -4.74259565e-04 -5.29082145e-05  3.77789866e-04\n",
      "  9.39144404e-04  3.24067560e-04  2.02917379e-04  9.73525532e-05\n",
      "  2.50596174e-04]\n",
      "                            OLS Regression Results                            \n",
      "==============================================================================\n",
      "Dep. Variable:                realGDP   R-squared:                       0.019\n",
      "Model:                            OLS   Adj. R-squared:                  0.012\n",
      "Method:                 Least Squares   F-statistic:                     2.661\n",
      "Date:                Sat, 23 Jul 2022   Prob (F-statistic):            0.00106\n",
      "Time:                        18:35:02   Log-Likelihood:                 8812.3\n",
      "No. Observations:                1799   AIC:                        -1.760e+04\n",
      "Df Residuals:                    1785   BIC:                        -1.752e+04\n",
      "Df Model:                          13                                         \n",
      "Covariance Type:            nonrobust                                         \n",
      "=======================================================================================\n",
      "                          coef    std err          t      P>|t|      [0.025      0.975]\n",
      "---------------------------------------------------------------------------------------\n",
      "const                  -0.0002      0.000     -1.391      0.164      -0.000    8.36e-05\n",
      "realPersInc             0.0001   5.72e-05      1.853      0.064   -6.19e-06       0.000\n",
      "unempRate               0.0004   7.01e-05      5.338      0.000       0.000       0.001\n",
      "indProd                 0.0002   6.43e-05      3.409      0.001    9.31e-05       0.000\n",
      "retailSales          1.885e-05    6.1e-05      0.309      0.757      -0.000       0.000\n",
      "Country_Denmark      8.181e-05      0.000      0.404      0.686      -0.000       0.000\n",
      "Country_France         -0.0005      0.000     -2.202      0.028      -0.001   -5.18e-05\n",
      "Country_Germany     -5.291e-05      0.000     -0.258      0.796      -0.000       0.000\n",
      "Country_Japan           0.0004      0.000      1.727      0.084   -5.12e-05       0.001\n",
      "Country_Korea           0.0009      0.000      3.629      0.000       0.000       0.001\n",
      "Country_Luxembourg      0.0003      0.000      1.447      0.148      -0.000       0.001\n",
      "Country_Netherlands     0.0002      0.000      0.961      0.337      -0.000       0.001\n",
      "Country_UK           9.735e-05      0.000      0.484      0.629      -0.000       0.000\n",
      "Country_USA             0.0003      0.000      1.243      0.214      -0.000       0.001\n",
      "==============================================================================\n",
      "Omnibus:                      763.133   Durbin-Watson:                   2.033\n",
      "Prob(Omnibus):                  0.000   Jarque-Bera (JB):            45826.906\n",
      "Skew:                           1.167   Prob(JB):                         0.00\n",
      "Kurtosis:                      27.615   Cond. No.                         15.4\n",
      "==============================================================================\n",
      "\n",
      "Notes:\n",
      "[1] Standard Errors assume that the covariance matrix of the errors is correctly specified.\n",
      "The Adjusted R-squared is:  -0.00016040239222148145\n",
      "The MAE is:  0.0011117728989690704\n",
      "The RMSE is:  0.0015994744800071979\n"
     ]
    }
   ],
   "source": [
    "linear_model = LinearRegression()\n",
    "\n",
    "\n",
    "linear_model = linear_model.fit(X_train, y_train)\n",
    "print('intercept: ', linear_model.intercept_)\n",
    "print('coefficients: ', linear_model.coef_)\n",
    "X_ols = sm.add_constant(X_train)\n",
    "statsmodel = sm.OLS(y_train, X_ols).fit()\n",
    "print(statsmodel.summary())\n",
    "from sklearn.metrics import mean_absolute_error, mean_squared_error, r2_score\n",
    "\n",
    "y_test_pred = linear_model.predict(X_test)\n",
    "r2 = r2_score(y_test, y_test_pred)\n",
    "mae = mean_absolute_error(y_test, y_test_pred)\n",
    "rmse = mean_squared_error(y_test, y_test_pred, squared=False)\n",
    "\n",
    "print('The Adjusted R-squared is: ', 1-(1-r2)*(OECD.shape[0]-1)/(OECD.shape[0]-len(FEATURES)-1))\n",
    "print('The MAE is: ', mae)\n",
    "print('The RMSE is: ', rmse)"
   ]
  },
  {
   "cell_type": "markdown",
   "metadata": {},
   "source": [
    "Here I fit a ridge regression to the data, then print the resulting Adjusted R-squared, MAE, and RMSE metrics."
   ]
  },
  {
   "cell_type": "code",
   "execution_count": 19,
   "metadata": {},
   "outputs": [
    {
     "name": "stdout",
     "output_type": "stream",
     "text": [
      "The lambda is: 10.0\n",
      "The Adjusted R-squared is:  -0.0011210804926695683\n",
      "The MAE is:  0.0011116109555797651\n",
      "The RMSE is:  0.0016002424624718438\n"
     ]
    }
   ],
   "source": [
    "from sklearn.linear_model import RidgeCV\n",
    "ridge_model = RidgeCV(cv=5, scoring='r2')\n",
    "ridge_model = ridge_model.fit(X_train, y_train)\n",
    "print('The lambda is:', ridge_model.alpha_)\n",
    "y_test_pred_ridge = ridge_model.predict(X_test)\n",
    "r2_ridge = r2_score(y_test, y_test_pred_ridge)\n",
    "mae_ridge = mean_absolute_error(y_test, y_test_pred_ridge)\n",
    "rmse_ridge = mean_squared_error(y_test, y_test_pred_ridge, squared=False)\n",
    "print('The Adjusted R-squared is: ', 1-(1-r2_ridge)*(OECD.shape[0]-1)/(OECD.shape[0]-len(FEATURES)-1))\n",
    "print('The MAE is: ', mae_ridge)\n",
    "print('The RMSE is: ', rmse_ridge)"
   ]
  },
  {
   "cell_type": "markdown",
   "metadata": {},
   "source": [
    "Here I fit a lasso regression to the data, then print the resulting Adjusted R-squared, MAE, and RMSE metrics."
   ]
  },
  {
   "cell_type": "code",
   "execution_count": 20,
   "metadata": {},
   "outputs": [
    {
     "name": "stdout",
     "output_type": "stream",
     "text": [
      "The lambda is: 2.408945910452003e-06\n",
      "The Adjusted R-squared is:  -0.0016100473091211764\n",
      "The MAE is:  0.0011125699424768827\n",
      "The RMSE is:  0.0016006332093845773\n"
     ]
    }
   ],
   "source": [
    "from sklearn.linear_model import LassoCV \n",
    "lasso_model = LassoCV(cv=5)\n",
    "lasso_model = lasso_model.fit(X_train, y_train)\n",
    "print('The lambda is:', lasso_model.alpha_)\n",
    "y_test_pred_lasso = lasso_model.predict(X_test)\n",
    "r2_lasso = r2_score(y_test, y_test_pred_lasso)\n",
    "mae_lasso = mean_absolute_error(y_test, y_test_pred_lasso)\n",
    "rmse_lasso = mean_squared_error(y_test, y_test_pred_lasso, squared=False)\n",
    "print('The Adjusted R-squared is: ', 1-(1-r2_lasso)*(OECD.shape[0]-1)/(OECD.shape[0]-len(FEATURES)-1))\n",
    "print('The MAE is: ', mae_lasso)\n",
    "print('The RMSE is: ', rmse_lasso)"
   ]
  },
  {
   "cell_type": "markdown",
   "metadata": {},
   "source": [
    "It is difficult to tell since the MAE and RMSE values are so close for all three of the models, but the ridge regression seems to fit the best, having the lower MAE and RMSE values by the ever so slight amount."
   ]
  },
  {
   "cell_type": "markdown",
   "metadata": {},
   "source": [
    "intercept:  -0.0002038638395117503\n",
    "coefficients:  [ 1.05993564e-04  3.74296397e-04  2.19173918e-04  1.88501122e-05\n",
    "  8.18097003e-05 -4.74259565e-04 -5.29082145e-05  3.77789866e-04\n",
    "  9.39144404e-04  3.24067560e-04  2.02917379e-04  9.73525532e-05\n",
    "  2.50596174e-04]"
   ]
  },
  {
   "cell_type": "code",
   "execution_count": 21,
   "metadata": {},
   "outputs": [
    {
     "name": "stdout",
     "output_type": "stream",
     "text": [
      "intercept:  -0.0002038638395117503\n",
      "coefficients:  [ 1.05993564e-04  3.74296397e-04  2.19173918e-04  1.88501122e-05\n",
      "  8.18097003e-05 -4.74259565e-04 -5.29082145e-05  3.77789866e-04\n",
      "  9.39144404e-04  3.24067560e-04  2.02917379e-04  9.73525532e-05\n",
      "  2.50596174e-04]\n"
     ]
    }
   ],
   "source": [
    "print('intercept: ', linear_model.intercept_)\n",
    "print('coefficients: ', linear_model.coef_)"
   ]
  },
  {
   "cell_type": "markdown",
   "metadata": {},
   "source": [
    "We can adjust R^2 by adding additional variables to the problem."
   ]
  }
 ],
 "metadata": {
  "kernelspec": {
   "display_name": "Python 3 (ipykernel)",
   "language": "python",
   "name": "python3"
  },
  "language_info": {
   "codemirror_mode": {
    "name": "ipython",
    "version": 3
   },
   "file_extension": ".py",
   "mimetype": "text/x-python",
   "name": "python",
   "nbconvert_exporter": "python",
   "pygments_lexer": "ipython3",
   "version": "3.9.12"
  },
  "toc": {
   "base_numbering": 1,
   "nav_menu": {},
   "number_sections": true,
   "sideBar": true,
   "skip_h1_title": true,
   "title_cell": "Table of Contents",
   "title_sidebar": "Contents",
   "toc_cell": false,
   "toc_position": {},
   "toc_section_display": true,
   "toc_window_display": true
  }
 },
 "nbformat": 4,
 "nbformat_minor": 2
}
