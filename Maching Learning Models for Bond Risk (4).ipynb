{
 "cells": [
  {
   "cell_type": "markdown",
   "metadata": {},
   "source": [
    "<h2 style=\"color:Green;\">Setup and Loading Packages</h2> Setup and Loading Packages"
   ]
  },
  {
   "cell_type": "code",
   "execution_count": 346,
   "metadata": {
    "ExecuteTime": {
     "end_time": "2021-04-16T00:08:32.172640Z",
     "start_time": "2021-04-16T00:08:31.635143Z"
    }
   },
   "outputs": [],
   "source": [
    "%matplotlib inline\n",
    "\n",
    "import numpy as np\n",
    "import pandas as pd\n",
    "\n",
    "import matplotlib.pyplot as plt\n",
    "import seaborn as sns\n",
    "\n",
    "from sklearn.preprocessing import LabelEncoder\n",
    "from sklearn.preprocessing import scale\n",
    "from sklearn.model_selection import train_test_split, cross_val_score, GridSearchCV, StratifiedKFold\n",
    "from sklearn.metrics import mean_squared_error, plot_confusion_matrix, f1_score, classification_report, roc_curve, auc, roc_auc_score\n",
    "from sklearn.multiclass import OneVsRestClassifier\n",
    "\n",
    "from sklearn.preprocessing import StandardScaler\n",
    "from sklearn.datasets import make_multilabel_classification\n",
    "\n",
    "import pandas_datareader as pdr"
   ]
  },
  {
   "cell_type": "code",
   "execution_count": 347,
   "metadata": {},
   "outputs": [
    {
     "name": "stdout",
     "output_type": "stream",
     "text": [
      "Requirement already satisfied: pandas_datareader in c:\\users\\alan wei\\anaconda3\\lib\\site-packages (0.10.0)\n",
      "Requirement already satisfied: lxml in c:\\users\\alan wei\\anaconda3\\lib\\site-packages (from pandas_datareader) (4.8.0)\n",
      "Requirement already satisfied: pandas>=0.23 in c:\\users\\alan wei\\anaconda3\\lib\\site-packages (from pandas_datareader) (1.4.2)\n",
      "Requirement already satisfied: requests>=2.19.0 in c:\\users\\alan wei\\anaconda3\\lib\\site-packages (from pandas_datareader) (2.27.1)\n",
      "Requirement already satisfied: python-dateutil>=2.8.1 in c:\\users\\alan wei\\anaconda3\\lib\\site-packages (from pandas>=0.23->pandas_datareader) (2.8.2)\n",
      "Requirement already satisfied: numpy>=1.18.5 in c:\\users\\alan wei\\anaconda3\\lib\\site-packages (from pandas>=0.23->pandas_datareader) (1.21.5)\n",
      "Requirement already satisfied: pytz>=2020.1 in c:\\users\\alan wei\\anaconda3\\lib\\site-packages (from pandas>=0.23->pandas_datareader) (2021.3)\n",
      "Requirement already satisfied: six>=1.5 in c:\\users\\alan wei\\anaconda3\\lib\\site-packages (from python-dateutil>=2.8.1->pandas>=0.23->pandas_datareader) (1.16.0)\n",
      "Requirement already satisfied: idna<4,>=2.5 in c:\\users\\alan wei\\anaconda3\\lib\\site-packages (from requests>=2.19.0->pandas_datareader) (3.3)\n",
      "Requirement already satisfied: urllib3<1.27,>=1.21.1 in c:\\users\\alan wei\\anaconda3\\lib\\site-packages (from requests>=2.19.0->pandas_datareader) (1.26.9)\n",
      "Requirement already satisfied: certifi>=2017.4.17 in c:\\users\\alan wei\\anaconda3\\lib\\site-packages (from requests>=2.19.0->pandas_datareader) (2021.10.8)\n",
      "Requirement already satisfied: charset-normalizer~=2.0.0 in c:\\users\\alan wei\\anaconda3\\lib\\site-packages (from requests>=2.19.0->pandas_datareader) (2.0.4)\n"
     ]
    }
   ],
   "source": [
    "! pip install pandas_datareader"
   ]
  },
  {
   "cell_type": "markdown",
   "metadata": {},
   "source": [
    "<h2 style=\"color:Green;\">SPY Directional Move</h2><br/>"
   ]
  },
  {
   "cell_type": "code",
   "execution_count": 348,
   "metadata": {},
   "outputs": [
    {
     "name": "stdout",
     "output_type": "stream",
     "text": [
      "<class 'pandas.core.frame.DataFrame'>\n",
      "RangeIndex: 1086 entries, 0 to 1085\n",
      "Data columns (total 4 columns):\n",
      " #   Column  Non-Null Count  Dtype  \n",
      "---  ------  --------------  -----  \n",
      " 0   Date    1086 non-null   object \n",
      " 1   SPY     1086 non-null   int64  \n",
      " 2   XLK     1086 non-null   float64\n",
      " 3   IYC     1086 non-null   float64\n",
      "dtypes: float64(2), int64(1), object(1)\n",
      "memory usage: 34.1+ KB\n"
     ]
    }
   ],
   "source": [
    "etLogRet = pd.read_csv('C:/Users/Alan Wei/Downloads/SPY_XLK_IYC.csv')\n",
    "etLogRet.info()"
   ]
  },
  {
   "cell_type": "markdown",
   "metadata": {},
   "source": [
    "Splitting data into 80% training set and 20% testing set."
   ]
  },
  {
   "cell_type": "code",
   "execution_count": 349,
   "metadata": {},
   "outputs": [],
   "source": [
    "VAR_NAMES = ['SPY',  'XLK', 'IYC']\n",
    "FEATURES = VAR_NAMES[1:]\n",
    "LABEL = VAR_NAMES[0]\n",
    "X_train, X_test, y_train, y_test = train_test_split(etLogRet.loc[:, FEATURES], etLogRet.loc[:, LABEL], test_size=0.20, random_state=0)"
   ]
  },
  {
   "cell_type": "markdown",
   "metadata": {},
   "source": [
    "Using AdaBoostClassifier model for the classification model."
   ]
  },
  {
   "cell_type": "code",
   "execution_count": 350,
   "metadata": {},
   "outputs": [
    {
     "name": "stdout",
     "output_type": "stream",
     "text": [
      "Fitting 3 folds for each of 15 candidates, totalling 45 fits\n"
     ]
    },
    {
     "data": {
      "text/plain": [
       "{'learning_rate': 1, 'n_estimators': 50}"
      ]
     },
     "execution_count": 350,
     "metadata": {},
     "output_type": "execute_result"
    }
   ],
   "source": [
    "from sklearn.ensemble import AdaBoostClassifier\n",
    "# Create the parameter grid based on the results of random search \n",
    "param_grid = {\n",
    "    'n_estimators': [50, 100, 200, 300, 1000],\n",
    "    'learning_rate':[1, 5, 10]\n",
    "}\n",
    "# Create a based model\n",
    "boosting = AdaBoostClassifier()\n",
    "# Instantiate the grid search model\n",
    "grid_search = GridSearchCV(estimator = boosting, param_grid = param_grid, cv = 3, n_jobs = -1, verbose = 2)\n",
    "# fit the grid search to the training data\n",
    "grid_search.fit(X_train, y_train)\n",
    "grid_search.best_params_\n",
    "#Create a Boosting Classifier\n",
    "\n"
   ]
  },
  {
   "cell_type": "code",
   "execution_count": 351,
   "metadata": {},
   "outputs": [],
   "source": [
    "boosting = AdaBoostClassifier(learning_rate= 1, n_estimators= 200)\n",
    "#Train the model using the training sets y_pred=clf.predict(X_test)\n",
    "boosting.fit(X_train,y_train)\n",
    "\n",
    "# predicted liquidity strengths \n",
    "boosting_pred_train = boosting.predict(X_train)\n",
    "boosting_pred_test = boosting.predict(X_test)"
   ]
  },
  {
   "cell_type": "code",
   "execution_count": 352,
   "metadata": {},
   "outputs": [
    {
     "name": "stdout",
     "output_type": "stream",
     "text": [
      "AdaBoost Training Error = 0.056\n",
      "AdaBoost Testing Error = 0.115\n"
     ]
    }
   ],
   "source": [
    "boosting_train_error= np.mean(boosting_pred_train!=y_train)\n",
    "boosting_test_error= np.mean(boosting_pred_test != y_test)\n",
    "print('AdaBoost Training Error = %.3f' % boosting_train_error)\n",
    "print('AdaBoost Testing Error = %.3f' % boosting_test_error)"
   ]
  },
  {
   "cell_type": "code",
   "execution_count": 353,
   "metadata": {},
   "outputs": [
    {
     "name": "stdout",
     "output_type": "stream",
     "text": [
      "AdaBoost Training Accuracy Score = 0.944\n",
      "AdaBoost Testing Accuracy Score = 0.885\n"
     ]
    }
   ],
   "source": [
    "boosting_train_accuracy= boosting.score(X_train,y_train)\n",
    "boosting_test_accuracy= boosting.score(X_test,y_test)\n",
    "print('AdaBoost Training Accuracy Score = %.3f' % boosting_train_accuracy)\n",
    "print('AdaBoost Testing Accuracy Score = %.3f' % boosting_test_accuracy)"
   ]
  },
  {
   "cell_type": "markdown",
   "metadata": {},
   "source": [
    "The above training accuracy scores are really high for a classifier test, showing that it was a good choice for a model."
   ]
  },
  {
   "cell_type": "code",
   "execution_count": 354,
   "metadata": {},
   "outputs": [
    {
     "name": "stderr",
     "output_type": "stream",
     "text": [
      "C:\\Users\\Alan Wei\\anaconda3\\lib\\site-packages\\sklearn\\utils\\deprecation.py:87: FutureWarning: Function plot_confusion_matrix is deprecated; Function `plot_confusion_matrix` is deprecated in 1.0 and will be removed in 1.2. Use one of the class methods: ConfusionMatrixDisplay.from_predictions or ConfusionMatrixDisplay.from_estimator.\n",
      "  warnings.warn(msg, category=FutureWarning)\n"
     ]
    },
    {
     "data": {
      "text/plain": [
       "Text(0.5, 1.0, 'AdaBoost Confusion Matrix')"
      ]
     },
     "execution_count": 354,
     "metadata": {},
     "output_type": "execute_result"
    },
    {
     "data": {
      "image/png": "[encoded data removed]",
      "text/plain": [
       "<Figure size 432x288 with 2 Axes>"
      ]
     },
     "metadata": {
      "needs_background": "light"
     },
     "output_type": "display_data"
    }
   ],
   "source": [
    "plot_confusion_matrix(rf, X_test, y_test)\n",
    "plt.title(\"AdaBoost Confusion Matrix\")"
   ]
  },
  {
   "cell_type": "code",
   "execution_count": 355,
   "metadata": {},
   "outputs": [
    {
     "name": "stdout",
     "output_type": "stream",
     "text": [
      "              precision    recall  f1-score   support\n",
      "\n",
      "           0       0.90      0.84      0.87        99\n",
      "           1       0.87      0.92      0.90       119\n",
      "\n",
      "    accuracy                           0.89       218\n",
      "   macro avg       0.89      0.88      0.88       218\n",
      "weighted avg       0.89      0.89      0.88       218\n",
      "\n"
     ]
    }
   ],
   "source": [
    "# storing f1 score\n",
    "boosting_f1_score= f1_score(y_test, boosting_pred_test, average='weighted')\n",
    "print(classification_report(y_test, boosting_pred_test))"
   ]
  },
  {
   "cell_type": "code",
   "execution_count": 356,
   "metadata": {},
   "outputs": [
    {
     "name": "stdout",
     "output_type": "stream",
     "text": [
      "AdaBoost Classifier: ROC AUC=0.881\n"
     ]
    }
   ],
   "source": [
    "boosting_pred_test_proba = boosting.predict(X_test)\n",
    "boosting_auc_score = roc_auc_score(y_test, boosting_pred_test_proba, multi_class='ovr')\n",
    "print('AdaBoost Classifier: ROC AUC=%.3f' % boosting_auc_score)"
   ]
  },
  {
   "cell_type": "markdown",
   "metadata": {},
   "source": [
    "The training accuracy score for the boosting model is higher but the testing accuracy socre is lower, therefore the boosting model is better at fitting the data to a model accurately, and the logistic model is better at finding the proper data points after creating the model."
   ]
  },
  {
   "cell_type": "code",
   "execution_count": 357,
   "metadata": {},
   "outputs": [
    {
     "name": "stdout",
     "output_type": "stream",
     "text": [
      "training accuracy score: 0.9435483870967742\n",
      "testing accuracy score: 0.8853211009174312\n"
     ]
    }
   ],
   "source": [
    "print('training accuracy score:', boosting.score(X_train,y_train))\n",
    "print('testing accuracy score:', boosting.score(X_test,y_test))"
   ]
  },
  {
   "cell_type": "markdown",
   "metadata": {},
   "source": [
    "<h2 style=\"color:Green;\">Corporate Bond Ratings Prediction</h2><br/>"
   ]
  },
  {
   "cell_type": "markdown",
   "metadata": {},
   "source": [
    "Bonds is another financial asset I took a look at, and lots of them have different risks when holding on to them. An example is default risk where the seller decides to not pay back the annual fee. There are also ratings for these bonds, with AAA being the highest.\n",
    "My goal is to predcit the bond ratings of companies that exhibit different financial properties based on these metric values. "
   ]
  },
  {
   "cell_type": "markdown",
   "metadata": {},
   "source": [
    "Here are the financial metrics data was collected and columns that are irrelevant to the financial metrics will be dropped. The remaining columns are features."
   ]
  },
  {
   "cell_type": "code",
   "execution_count": 597,
   "metadata": {},
   "outputs": [
    {
     "name": "stdout",
     "output_type": "stream",
     "text": [
      "<class 'pandas.core.frame.DataFrame'>\n",
      "RangeIndex: 2029 entries, 0 to 2028\n",
      "Data columns (total 30 columns):\n",
      " #   Column                              Non-Null Count  Dtype  \n",
      "---  ------                              --------------  -----  \n",
      " 0   Date                                2029 non-null   object \n",
      " 1   Rating                              2029 non-null   object \n",
      " 2   Name                                2029 non-null   object \n",
      " 3   Symbol                              2029 non-null   object \n",
      " 4   Rating Agency Name                  2029 non-null   object \n",
      " 5   currentRatio                        2029 non-null   float64\n",
      " 6   quickRatio                          2029 non-null   float64\n",
      " 7   cashRatio                           2029 non-null   float64\n",
      " 8   daysOfSalesOutstanding              2029 non-null   float64\n",
      " 9   netProfitMargin                     2029 non-null   float64\n",
      " 10  pretaxProfitMargin                  2029 non-null   float64\n",
      " 11  grossProfitMargin                   2029 non-null   float64\n",
      " 12  operatingProfitMargin               2029 non-null   float64\n",
      " 13  returnOnAssets                      2029 non-null   float64\n",
      " 14  returnOnCapitalEmployed             2029 non-null   float64\n",
      " 15  returnOnEquity                      2029 non-null   float64\n",
      " 16  assetTurnover                       2029 non-null   float64\n",
      " 17  fixedAssetTurnover                  2029 non-null   float64\n",
      " 18  debtEquityRatio                     2029 non-null   float64\n",
      " 19  debtRatio                           2029 non-null   float64\n",
      " 20  effectiveTaxRate                    2029 non-null   float64\n",
      " 21  freeCashFlowOperatingCashFlowRatio  2029 non-null   float64\n",
      " 22  freeCashFlowPerShare                2029 non-null   float64\n",
      " 23  cashPerShare                        2029 non-null   float64\n",
      " 24  companyEquityMultiplier             2029 non-null   float64\n",
      " 25  ebitPerRevenue                      2029 non-null   float64\n",
      " 26  enterpriseValueMultiple             2029 non-null   float64\n",
      " 27  operatingCashFlowPerShare           2029 non-null   float64\n",
      " 28  operatingCashFlowSalesRatio         2029 non-null   float64\n",
      " 29  payablesTurnover                    2029 non-null   float64\n",
      "dtypes: float64(25), object(5)\n",
      "memory usage: 475.7+ KB\n"
     ]
    }
   ],
   "source": [
    "bruhMoment = pd.read_csv('C:/Users/Alan Wei/Downloads/corporate_rating.csv')\n",
    "bruhMoment.info()"
   ]
  },
  {
   "cell_type": "markdown",
   "metadata": {},
   "source": [
    "Explanatory: the features for example: rating agencxy name, current Ratio, quickRatio, etc. Response variable: future company bond rating."
   ]
  },
  {
   "cell_type": "markdown",
   "metadata": {},
   "source": [
    "Exploratory Data Analysis to clean the data to only keep the important parts."
   ]
  },
  {
   "cell_type": "code",
   "execution_count": 598,
   "metadata": {},
   "outputs": [
    {
     "data": {
      "text/plain": [
       "{'A': 0,\n",
       " 'AA': 1,\n",
       " 'AAA': 2,\n",
       " 'B': 3,\n",
       " 'BB': 4,\n",
       " 'BBB': 5,\n",
       " 'C': 6,\n",
       " 'CC': 7,\n",
       " 'CCC': 8,\n",
       " 'D': 9}"
      ]
     },
     "execution_count": 598,
     "metadata": {},
     "output_type": "execute_result"
    }
   ],
   "source": [
    "LABEL = 'Rating'\n",
    "\n",
    "bruhMoment.rename(columns = {'Rating Agency Name':'Rating_Agency_Name'}, inplace = True)\n",
    "FEATURES = bruhMoment.columns\n",
    "\n",
    "# get the dummies and store it in a variable\n",
    "dummies = pd.get_dummies(bruhMoment.Symbol)\n",
    "\n",
    "dummies3 = pd.get_dummies(bruhMoment.Rating_Agency_Name)\n",
    "# Concatenate the dummies to original dataframe\n",
    "merged1 = pd.concat([bruhMoment, dummies], axis='columns')  \n",
    "\n",
    "merged2 = pd.concat([merged1, dummies3], axis='columns')  \n",
    "merged.head()\n",
    "# drop the values\n",
    "bruhMoment1 = merged2.drop(['Name'], axis='columns')\n",
    "bruhMoment2 = bruhMoment1.drop(['Symbol'], axis='columns')\n",
    "bruhMoment3 = bruhMoment2.drop(['Rating_Agency_Name'], axis='columns')\n",
    "\n",
    "# See data info\n",
    "bruhMoment3.head()\n",
    "\n",
    "FEATURES = [f for f in FEATURES if f not in ['Rating','Name','Symbol','Rating_Agency_Name','Date']]\n",
    "\n",
    "bruhMoment3.loc[:, FEATURES] = scale(bruhMoment3.loc[:, FEATURES]) # standardizing indicators\n",
    "le = LabelEncoder()\n",
    "le.fit(bruhMoment3.loc[:, LABEL])\n",
    "bruhMoment3.Rating = le.fit_transform(bruhMoment3.loc[:, LABEL])\n",
    "le_name_mapping = dict(zip(le.classes_, le.transform(le.classes_)))\n",
    "le_name_mapping"
   ]
  },
  {
   "cell_type": "code",
   "execution_count": 610,
   "metadata": {},
   "outputs": [],
   "source": [
    "bruhMoment3.head()\n",
    "\n",
    "FEATURES = FEATURES+dummies.columns.to_list()\n",
    "\n",
    "FEATURES = FEATURES+dummies3.columns.to_list()"
   ]
  },
  {
   "cell_type": "code",
   "execution_count": 600,
   "metadata": {},
   "outputs": [
    {
     "data": {
      "text/plain": [
       "Text(0.5, 0, 'Relative Importance')"
      ]
     },
     "execution_count": 600,
     "metadata": {},
     "output_type": "execute_result"
    },
    {
     "data": {
      "image/png": "[encoded data removed]",
      "text/plain": [
       "<Figure size 432x288 with 1 Axes>"
      ]
     },
     "metadata": {
      "needs_background": "light"
     },
     "output_type": "display_data"
    }
   ],
   "source": [
    "X_train, X_test, y_train, y_test = train_test_split(bruhMoment3.loc[:, FEATURES], bruhMoment3.loc[:, LABEL], test_size=0.2, random_state=0)\n",
    "from sklearn.ensemble import RandomForestClassifier # importing the random forest module\n",
    "\n",
    "rf_model = RandomForestClassifier(random_state=0) # define the random forest model\n",
    "\n",
    "rf_model.fit(X_train, y_train) # fit the random forest model\n",
    "\n",
    "importances = rf_model.feature_importances_ # get importance\n",
    "\n",
    "indices = np.argsort(importances) # sort the features' index by their importance scores\n",
    "plt.title('Feature Importances in the Random Forest Model')\n",
    "plt.barh(range(len(indices)), importances[indices], align='center')\n",
    "plt.yticks(range(len(indices)), [FEATURES[i] for i in indices])\n",
    "plt.xlabel('Relative Importance')"
   ]
  },
  {
   "cell_type": "code",
   "execution_count": 601,
   "metadata": {},
   "outputs": [],
   "source": [
    "FEATURES_TO_DROP=[FEATURES[i] for i in indices[importances[indices] < 0.025]]"
   ]
  },
  {
   "cell_type": "code",
   "execution_count": 602,
   "metadata": {},
   "outputs": [
    {
     "name": "stdout",
     "output_type": "stream",
     "text": [
      "['currentRatio', 'quickRatio', 'cashRatio', 'daysOfSalesOutstanding', 'netProfitMargin', 'pretaxProfitMargin', 'grossProfitMargin', 'operatingProfitMargin', 'returnOnAssets', 'returnOnCapitalEmployed', 'returnOnEquity', 'assetTurnover', 'fixedAssetTurnover', 'debtEquityRatio', 'debtRatio', 'effectiveTaxRate', 'freeCashFlowOperatingCashFlowRatio', 'freeCashFlowPerShare', 'cashPerShare', 'companyEquityMultiplier', 'ebitPerRevenue', 'enterpriseValueMultiple', 'operatingCashFlowPerShare', 'operatingCashFlowSalesRatio', 'payablesTurnover']\n"
     ]
    }
   ],
   "source": [
    "DATA2 = bruhMoment3.drop(columns=FEATURES_TO_DROP) # drop feature in the original data set\n",
    "X_train = X_train.drop(columns = FEATURES_TO_DROP) # drop feature in the training data set\n",
    "X_test = X_test.drop(columns= FEATURES_TO_DROP) # drop feature in the testing data set\n",
    "\n",
    "FEATURES = [f for f in FEATURES if f not in FEATURES_TO_DROP] \n",
    "\n",
    "print(FEATURES)"
   ]
  },
  {
   "cell_type": "markdown",
   "metadata": {},
   "source": [
    "I chose to use the BaggingClassifier because the current model has tons of weak learners, and bagging helps all of these \n",
    "smaller lesser models come together to help create a working better model."
   ]
  },
  {
   "cell_type": "code",
   "execution_count": 604,
   "metadata": {},
   "outputs": [
    {
     "name": "stdout",
     "output_type": "stream",
     "text": [
      "Fitting 3 folds for each of 525 candidates, totalling 1575 fits\n"
     ]
    },
    {
     "name": "stderr",
     "output_type": "stream",
     "text": [
      "C:\\Users\\Alan Wei\\anaconda3\\lib\\site-packages\\sklearn\\model_selection\\_split.py:676: UserWarning: The least populated class in y has only 1 members, which is less than n_splits=3.\n",
      "  warnings.warn(\n"
     ]
    },
    {
     "data": {
      "text/plain": [
       "{'max_features': 17, 'max_samples': 10, 'n_estimators': 1000}"
      ]
     },
     "execution_count": 604,
     "metadata": {},
     "output_type": "execute_result"
    }
   ],
   "source": [
    "from sklearn.ensemble import BaggingClassifier\n",
    "param_grid = {\n",
    "    'n_estimators': [10, 25, 50, 100, 200, 300, 1000],\n",
    "    'max_samples':[1, 5, 10],\n",
    "    'max_features': [1, 2 , 3 , 4, 5,6,7,8,9,10,11,12,13,14,15,16,17,18,19,20,21,22,23,24,25]\n",
    "}\n",
    "# Create a based model\n",
    "bagging = BaggingClassifier()\n",
    "# Instantiate the grid search model\n",
    "grid_search = GridSearchCV(estimator = bagging, param_grid = param_grid, cv = 3, n_jobs = -1, verbose = 2)\n",
    "# fit the grid search to the training data\n",
    "grid_search.fit(X_train, y_train)\n",
    "grid_search.best_params_"
   ]
  },
  {
   "cell_type": "code",
   "execution_count": 605,
   "metadata": {},
   "outputs": [],
   "source": [
    "# Creating a Bagging classifier\n",
    "bagging = BaggingClassifier(max_features= 17, max_samples= 10, n_estimators= 1000)\n",
    "# fit the bagging on the training data\n",
    "bagging.fit(X_train, y_train)\n",
    "\n",
    "# predicted liquidity strengths \n",
    "bagging_pred_train = bagging.predict(X_train)\n",
    "bagging_pred_test = bagging.predict(X_test)"
   ]
  },
  {
   "cell_type": "code",
   "execution_count": 606,
   "metadata": {},
   "outputs": [
    {
     "name": "stdout",
     "output_type": "stream",
     "text": [
      "Bagging Training Error = 0.622\n",
      "Bagging Testing Error = 0.613\n"
     ]
    }
   ],
   "source": [
    "bagging_train_error= np.mean(bagging_pred_train!=y_train)\n",
    "bagging_test_error= np.mean(bagging_pred_test != y_test)\n",
    "print('Bagging Training Error = %.3f' % bagging_train_error)\n",
    "print('Bagging Testing Error = %.3f' % bagging_test_error)"
   ]
  },
  {
   "cell_type": "code",
   "execution_count": 607,
   "metadata": {},
   "outputs": [
    {
     "name": "stdout",
     "output_type": "stream",
     "text": [
      "Bagging Training Accuracy Score = 0.378\n",
      "Bagging Testing Accuracy Score = 0.387\n"
     ]
    }
   ],
   "source": [
    "bagging_train_accuracy= bagging.score(X_train,y_train)\n",
    "bagging_test_accuracy= bagging.score(X_test,y_test)\n",
    "print('Bagging Training Accuracy Score = %.3f' % bagging_train_accuracy)\n",
    "print('Bagging Testing Accuracy Score = %.3f' % bagging_test_accuracy)"
   ]
  },
  {
   "cell_type": "code",
   "execution_count": 608,
   "metadata": {},
   "outputs": [
    {
     "name": "stderr",
     "output_type": "stream",
     "text": [
      "C:\\Users\\Alan Wei\\anaconda3\\lib\\site-packages\\sklearn\\utils\\deprecation.py:87: FutureWarning: Function plot_confusion_matrix is deprecated; Function `plot_confusion_matrix` is deprecated in 1.0 and will be removed in 1.2. Use one of the class methods: ConfusionMatrixDisplay.from_predictions or ConfusionMatrixDisplay.from_estimator.\n",
      "  warnings.warn(msg, category=FutureWarning)\n"
     ]
    },
    {
     "data": {
      "text/plain": [
       "Text(0.5, 1.0, 'Bagging Confusion Matrix')"
      ]
     },
     "execution_count": 608,
     "metadata": {},
     "output_type": "execute_result"
    },
    {
     "data": {
      "image/png": "[encoded data removed]",
      "text/plain": [
       "<Figure size 432x288 with 2 Axes>"
      ]
     },
     "metadata": {
      "needs_background": "light"
     },
     "output_type": "display_data"
    }
   ],
   "source": [
    "################ OUTPUT THE PERFORMANCE RESULTS HERE #################\n",
    "plot_confusion_matrix(bagging, X_test, y_test)\n",
    "plt.title(\"Bagging Confusion Matrix\")\n",
    "\n",
    "\n",
    "\n",
    "\n",
    "\n",
    "######################################################################"
   ]
  },
  {
   "cell_type": "code",
   "execution_count": 609,
   "metadata": {},
   "outputs": [
    {
     "name": "stdout",
     "output_type": "stream",
     "text": [
      "              precision    recall  f1-score   support\n",
      "\n",
      "           0       0.14      0.01      0.02        74\n",
      "           1       0.00      0.00      0.00        18\n",
      "           2       0.00      0.00      0.00         1\n",
      "           3       0.50      0.02      0.03        61\n",
      "           4       0.35      0.26      0.30        97\n",
      "           5       0.40      0.90      0.55       144\n",
      "           6       0.00      0.00      0.00         1\n",
      "           8       0.00      0.00      0.00        10\n",
      "\n",
      "    accuracy                           0.39       406\n",
      "   macro avg       0.17      0.15      0.11       406\n",
      "weighted avg       0.33      0.39      0.28       406\n",
      "\n"
     ]
    },
    {
     "name": "stderr",
     "output_type": "stream",
     "text": [
      "C:\\Users\\Alan Wei\\anaconda3\\lib\\site-packages\\sklearn\\metrics\\_classification.py:1318: UndefinedMetricWarning: Precision and F-score are ill-defined and being set to 0.0 in labels with no predicted samples. Use `zero_division` parameter to control this behavior.\n",
      "  _warn_prf(average, modifier, msg_start, len(result))\n",
      "C:\\Users\\Alan Wei\\anaconda3\\lib\\site-packages\\sklearn\\metrics\\_classification.py:1318: UndefinedMetricWarning: Precision and F-score are ill-defined and being set to 0.0 in labels with no predicted samples. Use `zero_division` parameter to control this behavior.\n",
      "  _warn_prf(average, modifier, msg_start, len(result))\n",
      "C:\\Users\\Alan Wei\\anaconda3\\lib\\site-packages\\sklearn\\metrics\\_classification.py:1318: UndefinedMetricWarning: Precision and F-score are ill-defined and being set to 0.0 in labels with no predicted samples. Use `zero_division` parameter to control this behavior.\n",
      "  _warn_prf(average, modifier, msg_start, len(result))\n"
     ]
    }
   ],
   "source": [
    "bagging_f1_score= f1_score(y_test, bagging_pred_test, average='weighted')\n",
    "print(classification_report(y_test, bagging_pred_test))"
   ]
  },
  {
   "cell_type": "markdown",
   "metadata": {},
   "source": [
    "I chose support vector machines as the second model since there is a relatively clear separation between the features, and since there are a lot of features, it is effective in spliting apart the data."
   ]
  },
  {
   "cell_type": "code",
   "execution_count": 612,
   "metadata": {},
   "outputs": [],
   "source": [
    "from sklearn import svm\n",
    "# build SVC model and choose the Radial Basis Function (RBF) kernel function\n",
    "rbf = svm.SVC(kernel='rbf', gamma=0.5, C=0.1, probability=True).fit(X_train, y_train)\n",
    "# choose the Polynomial kernel function\n",
    "poly = svm.SVC(kernel='poly', degree=3, C=1, probability=True).fit(X_train, y_train)\n",
    "\n",
    "# predicted liquidity strengths \n",
    "rbf_pred_train = rbf.predict(X_train)\n",
    "rbf_pred_test = rbf.predict(X_test)\n",
    "poly_pred_train = poly.predict(X_train)\n",
    "poly_pred_test = poly.predict(X_test)"
   ]
  },
  {
   "cell_type": "code",
   "execution_count": 613,
   "metadata": {},
   "outputs": [
    {
     "name": "stdout",
     "output_type": "stream",
     "text": [
      "SVC (RBF Kernel) Training Error = 0.650\n",
      "SVC (RBF Kernel) Testing Error = 0.638\n",
      "SVC (3rd-Degree Polynomial Kernel) Training Error = 0.650\n",
      "SVC (3rd-Degree Polynomial Kernel) Testing Error = 0.638\n"
     ]
    }
   ],
   "source": [
    "rbf_train_error= np.mean(rbf_pred_train!=y_train)\n",
    "rbf_test_error= np.mean(rbf_pred_test != y_test)\n",
    "print('SVC (RBF Kernel) Training Error = %.3f' % rbf_train_error)\n",
    "print('SVC (RBF Kernel) Testing Error = %.3f' % rbf_test_error)\n",
    "poly_train_error= np.mean(poly_pred_train!=y_train)\n",
    "poly_test_error= np.mean(poly_pred_test != y_test)\n",
    "print('SVC (3rd-Degree Polynomial Kernel) Training Error = %.3f' % poly_train_error)\n",
    "print('SVC (3rd-Degree Polynomial Kernel) Testing Error = %.3f' % poly_test_error)"
   ]
  },
  {
   "cell_type": "code",
   "execution_count": 614,
   "metadata": {},
   "outputs": [
    {
     "name": "stdout",
     "output_type": "stream",
     "text": [
      "SVC (RBF Kernel) Training Accuracy Score = 0.350\n",
      "SVC (RBF Kernel) Testing Accuracy Score = 0.362\n",
      "SVC (3rd-Degree Polynomial Kernel) Training Accuracy Score = 0.350\n",
      "SVC (3rd-Degree Polynomial Kernel) Testing Accuracy Score = 0.362\n"
     ]
    }
   ],
   "source": [
    "rbf_train_accuracy= rbf.score(X_train,y_train)\n",
    "rbf_test_accuracy= rbf.score(X_test,y_test)\n",
    "print('SVC (RBF Kernel) Training Accuracy Score = %.3f' % rbf_train_accuracy)\n",
    "print('SVC (RBF Kernel) Testing Accuracy Score = %.3f' % rbf_test_accuracy)\n",
    "poly_train_accuracy= poly.score(X_train,y_train)\n",
    "poly_test_accuracy= poly.score(X_test,y_test)\n",
    "print('SVC (3rd-Degree Polynomial Kernel) Training Accuracy Score = %.3f' % poly_train_accuracy)\n",
    "print('SVC (3rd-Degree Polynomial Kernel) Testing Accuracy Score = %.3f' % poly_test_accuracy)"
   ]
  },
  {
   "cell_type": "code",
   "execution_count": 615,
   "metadata": {},
   "outputs": [
    {
     "name": "stderr",
     "output_type": "stream",
     "text": [
      "C:\\Users\\Alan Wei\\anaconda3\\lib\\site-packages\\sklearn\\utils\\deprecation.py:87: FutureWarning: Function plot_confusion_matrix is deprecated; Function `plot_confusion_matrix` is deprecated in 1.0 and will be removed in 1.2. Use one of the class methods: ConfusionMatrixDisplay.from_predictions or ConfusionMatrixDisplay.from_estimator.\n",
      "  warnings.warn(msg, category=FutureWarning)\n"
     ]
    },
    {
     "data": {
      "text/plain": [
       "Text(0.5, 1.0, 'SVC (RBF Kernel) Confusion Matrix')"
      ]
     },
     "execution_count": 615,
     "metadata": {},
     "output_type": "execute_result"
    },
    {
     "data": {
      "image/png": "[encoded data removed]",
      "text/plain": [
       "<Figure size 432x288 with 2 Axes>"
      ]
     },
     "metadata": {
      "needs_background": "light"
     },
     "output_type": "display_data"
    }
   ],
   "source": [
    "plot_confusion_matrix(rbf, X_test, y_test)\n",
    "plt.title(\"SVC (RBF Kernel) Confusion Matrix\")"
   ]
  },
  {
   "cell_type": "code",
   "execution_count": 616,
   "metadata": {},
   "outputs": [
    {
     "name": "stderr",
     "output_type": "stream",
     "text": [
      "C:\\Users\\Alan Wei\\anaconda3\\lib\\site-packages\\sklearn\\utils\\deprecation.py:87: FutureWarning: Function plot_confusion_matrix is deprecated; Function `plot_confusion_matrix` is deprecated in 1.0 and will be removed in 1.2. Use one of the class methods: ConfusionMatrixDisplay.from_predictions or ConfusionMatrixDisplay.from_estimator.\n",
      "  warnings.warn(msg, category=FutureWarning)\n"
     ]
    },
    {
     "data": {
      "text/plain": [
       "Text(0.5, 1.0, 'SVC (3rd-Degree Polynomial Kernel) Confusion Matrix')"
      ]
     },
     "execution_count": 616,
     "metadata": {},
     "output_type": "execute_result"
    },
    {
     "data": {
      "image/png": "[encoded data removed]",
      "text/plain": [
       "<Figure size 432x288 with 2 Axes>"
      ]
     },
     "metadata": {
      "needs_background": "light"
     },
     "output_type": "display_data"
    }
   ],
   "source": [
    "plot_confusion_matrix(poly, X_test, y_test)\n",
    "plt.title(\"SVC (3rd-Degree Polynomial Kernel) Confusion Matrix\")"
   ]
  },
  {
   "cell_type": "code",
   "execution_count": 617,
   "metadata": {},
   "outputs": [
    {
     "name": "stdout",
     "output_type": "stream",
     "text": [
      "              precision    recall  f1-score   support\n",
      "\n",
      "           0       0.00      0.00      0.00        74\n",
      "           1       0.00      0.00      0.00        18\n",
      "           2       0.00      0.00      0.00         1\n",
      "           3       0.33      0.02      0.03        61\n",
      "           4       0.24      0.10      0.14        97\n",
      "           5       0.38      0.94      0.54       144\n",
      "           6       0.00      0.00      0.00         1\n",
      "           8       0.00      0.00      0.00        10\n",
      "\n",
      "    accuracy                           0.36       406\n",
      "   macro avg       0.12      0.13      0.09       406\n",
      "weighted avg       0.24      0.36      0.23       406\n",
      "\n"
     ]
    },
    {
     "name": "stderr",
     "output_type": "stream",
     "text": [
      "C:\\Users\\Alan Wei\\anaconda3\\lib\\site-packages\\sklearn\\metrics\\_classification.py:1318: UndefinedMetricWarning: Precision and F-score are ill-defined and being set to 0.0 in labels with no predicted samples. Use `zero_division` parameter to control this behavior.\n",
      "  _warn_prf(average, modifier, msg_start, len(result))\n",
      "C:\\Users\\Alan Wei\\anaconda3\\lib\\site-packages\\sklearn\\metrics\\_classification.py:1318: UndefinedMetricWarning: Precision and F-score are ill-defined and being set to 0.0 in labels with no predicted samples. Use `zero_division` parameter to control this behavior.\n",
      "  _warn_prf(average, modifier, msg_start, len(result))\n",
      "C:\\Users\\Alan Wei\\anaconda3\\lib\\site-packages\\sklearn\\metrics\\_classification.py:1318: UndefinedMetricWarning: Precision and F-score are ill-defined and being set to 0.0 in labels with no predicted samples. Use `zero_division` parameter to control this behavior.\n",
      "  _warn_prf(average, modifier, msg_start, len(result))\n"
     ]
    }
   ],
   "source": [
    "rbf_f1_score= f1_score(y_test, rbf_pred_test, average='weighted')\n",
    "print(classification_report(y_test, rbf_pred_test))"
   ]
  },
  {
   "cell_type": "code",
   "execution_count": 620,
   "metadata": {},
   "outputs": [
    {
     "name": "stdout",
     "output_type": "stream",
     "text": [
      "              precision    recall  f1-score   support\n",
      "\n",
      "           0       0.00      0.00      0.00        74\n",
      "           1       0.00      0.00      0.00        18\n",
      "           2       0.00      0.00      0.00         1\n",
      "           3       0.60      0.05      0.09        61\n",
      "           4       0.00      0.00      0.00        97\n",
      "           5       0.36      1.00      0.53       144\n",
      "           6       0.00      0.00      0.00         1\n",
      "           8       0.00      0.00      0.00        10\n",
      "\n",
      "    accuracy                           0.36       406\n",
      "   macro avg       0.12      0.13      0.08       406\n",
      "weighted avg       0.22      0.36      0.20       406\n",
      "\n"
     ]
    },
    {
     "name": "stderr",
     "output_type": "stream",
     "text": [
      "C:\\Users\\Alan Wei\\anaconda3\\lib\\site-packages\\sklearn\\metrics\\_classification.py:1318: UndefinedMetricWarning: Precision and F-score are ill-defined and being set to 0.0 in labels with no predicted samples. Use `zero_division` parameter to control this behavior.\n",
      "  _warn_prf(average, modifier, msg_start, len(result))\n",
      "C:\\Users\\Alan Wei\\anaconda3\\lib\\site-packages\\sklearn\\metrics\\_classification.py:1318: UndefinedMetricWarning: Precision and F-score are ill-defined and being set to 0.0 in labels with no predicted samples. Use `zero_division` parameter to control this behavior.\n",
      "  _warn_prf(average, modifier, msg_start, len(result))\n",
      "C:\\Users\\Alan Wei\\anaconda3\\lib\\site-packages\\sklearn\\metrics\\_classification.py:1318: UndefinedMetricWarning: Precision and F-score are ill-defined and being set to 0.0 in labels with no predicted samples. Use `zero_division` parameter to control this behavior.\n",
      "  _warn_prf(average, modifier, msg_start, len(result))\n"
     ]
    }
   ],
   "source": [
    "poly_f1_score= f1_score(y_test, poly_pred_test, average='weighted')\n",
    "print(classification_report(y_test, poly_pred_test))"
   ]
  },
  {
   "cell_type": "markdown",
   "metadata": {},
   "source": [
    "My model did not perform very well compared to the first part, as the accuracy scores of the models I tested in the second part were usually around .35, which is very low. The first model having a more clear cut way of determining since there were only two features that were considered, rather than 8."
   ]
  },
  {
   "cell_type": "markdown",
   "metadata": {},
   "source": [
    "Bond ratings don't affect stock prices directly, but they do affect them indirectly, by investors seeing a bad stock as bad, so less people invest, therefore dropping the price, and vice versa if the bond rating were to increase, the price would also increase."
   ]
  }
 ],
 "metadata": {
  "kernelspec": {
   "display_name": "Python 3 (ipykernel)",
   "language": "python",
   "name": "python3"
  },
  "language_info": {
   "codemirror_mode": {
    "name": "ipython",
    "version": 3
   },
   "file_extension": ".py",
   "mimetype": "text/x-python",
   "name": "python",
   "nbconvert_exporter": "python",
   "pygments_lexer": "ipython3",
   "version": "3.9.12"
  },
  "toc": {
   "base_numbering": 1,
   "nav_menu": {},
   "number_sections": true,
   "sideBar": true,
   "skip_h1_title": true,
   "title_cell": "Table of Contents",
   "title_sidebar": "Contents",
   "toc_cell": false,
   "toc_position": {},
   "toc_section_display": true,
   "toc_window_display": true
  }
 },
 "nbformat": 4,
 "nbformat_minor": 2
}
